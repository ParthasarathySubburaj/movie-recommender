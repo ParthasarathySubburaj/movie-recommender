{
 "cells": [
  {
   "cell_type": "code",
   "execution_count": 1,
   "metadata": {},
   "outputs": [],
   "source": [
    "import numpy as np\n",
    "import pandas as pd\n",
    "from collections import Counter\n",
    "import matplotlib.pyplot as plt"
   ]
  },
  {
   "cell_type": "code",
   "execution_count": 2,
   "metadata": {},
   "outputs": [],
   "source": [
    "df = pd.read_csv(\"../data/mpst_full_data.csv\")"
   ]
  },
  {
   "cell_type": "code",
   "execution_count": 3,
   "metadata": {},
   "outputs": [],
   "source": [
    "tags = []\n",
    "for i,j in enumerate(df.tags):\n",
    "    temp = j.split(\", \")\n",
    "    tags.extend(temp)"
   ]
  },
  {
   "cell_type": "code",
   "execution_count": 4,
   "metadata": {},
   "outputs": [
    {
     "data": {
      "text/plain": [
       "{'absurd',\n",
       " 'action',\n",
       " 'adult comedy',\n",
       " 'allegory',\n",
       " 'alternate history',\n",
       " 'alternate reality',\n",
       " 'anti war',\n",
       " 'atmospheric',\n",
       " 'autobiographical',\n",
       " 'avant garde',\n",
       " 'blaxploitation',\n",
       " 'bleak',\n",
       " 'boring',\n",
       " 'brainwashing',\n",
       " 'christian film',\n",
       " 'claustrophobic',\n",
       " 'clever',\n",
       " 'comedy',\n",
       " 'comic',\n",
       " 'cruelty',\n",
       " 'cult',\n",
       " 'cute',\n",
       " 'dark',\n",
       " 'depressing',\n",
       " 'dramatic',\n",
       " 'entertaining',\n",
       " 'fantasy',\n",
       " 'feel-good',\n",
       " 'flashback',\n",
       " 'good versus evil',\n",
       " 'gothic',\n",
       " 'grindhouse film',\n",
       " 'haunting',\n",
       " 'historical',\n",
       " 'historical fiction',\n",
       " 'home movie',\n",
       " 'horror',\n",
       " 'humor',\n",
       " 'insanity',\n",
       " 'inspiring',\n",
       " 'intrigue',\n",
       " 'magical realism',\n",
       " 'melodrama',\n",
       " 'murder',\n",
       " 'mystery',\n",
       " 'neo noir',\n",
       " 'non fiction',\n",
       " 'paranormal',\n",
       " 'philosophical',\n",
       " 'plot twist',\n",
       " 'pornographic',\n",
       " 'prank',\n",
       " 'psychedelic',\n",
       " 'psychological',\n",
       " 'queer',\n",
       " 'realism',\n",
       " 'revenge',\n",
       " 'romantic',\n",
       " 'sadist',\n",
       " 'satire',\n",
       " 'sci-fi',\n",
       " 'sentimental',\n",
       " 'storytelling',\n",
       " 'stupid',\n",
       " 'suicidal',\n",
       " 'suspenseful',\n",
       " 'thought-provoking',\n",
       " 'tragedy',\n",
       " 'violence',\n",
       " 'western',\n",
       " 'whimsical'}"
      ]
     },
     "execution_count": 4,
     "metadata": {},
     "output_type": "execute_result"
    }
   ],
   "source": [
    "set(tags)"
   ]
  },
  {
   "cell_type": "code",
   "execution_count": 5,
   "metadata": {},
   "outputs": [],
   "source": [
    "mapping = {\n",
    "    \"action\": [\"action\", \"good versus evil\", \"revenge\", \"suicidal\" ],\n",
    "    \"comedy\": [\"comedy\", \"comic\", \"humor\", \"prank\",\"satire\"  ],\n",
    "    \"cult\":[\"cult\", \"melodrama\" ],\n",
    "    \"fantasy\":[\"avant garde\", \"fantasy\", \"home movie\", \"magical realism\", \"whimsical\"],\n",
    "    \"thriller\":[\"clever\", \"insanity\",\"intrigue\", \"murder\", \"mystery\", \"neo noir\", \"psychological\", \"suspenseful\"],\n",
    "    \"horror\":[\"gothic\", \"grindhouse film\", \"haunting\", \"horror\", \"paranormal\", ],\n",
    "    \"romantic\":[\"cute\", \"queer\",\"romantic\"  ],\n",
    "    \"sci-fi\":[\"alternate reality\", \"atmospheric\", \"sci-fi\" ],\n",
    "    \"drama\":[\"absurd\", \"boring\", \"adult comedy\", \"autobiographical\", \"dramatic\", \n",
    "             \"entertaining\", \"feel-good\", \"flashback\", \"historical\",\"historical fiction\", \n",
    "             \"inspiring\", \"non fiction\", \"philosophical\", \"plot twist\",\"realism\", \"sentimental\", \n",
    "             \"storytelling\", \"stupid\", \"thought-provoking\", \"tragedy\", \"western\", \"christian film\"],\n",
    "    \"dark\":[\"bleak\", \"claustrophobic\", \"blaxploitation\", \"cruelty\", \"dark\", \"depressing\", \"sadist\", \"violence\", \"psychedelic\"]\n",
    "    \n",
    "}"
   ]
  },
  {
   "cell_type": "code",
   "execution_count": 6,
   "metadata": {},
   "outputs": [],
   "source": [
    "def tag_finder(mapping, tag):\n",
    "    for key, values in mapping.items():\n",
    "        if tag in values:\n",
    "            return key            "
   ]
  },
  {
   "cell_type": "code",
   "execution_count": 7,
   "metadata": {},
   "outputs": [],
   "source": [
    "df[\"tags_final\"] = None\n",
    "for i,j in enumerate(df.tags):\n",
    "    temp = j.split(\", \")\n",
    "    new_tags = []\n",
    "    for a in temp:\n",
    "        tag = tag_finder(mapping, a)\n",
    "        if tag is not None:\n",
    "            new_tags.append(tag)\n",
    "    df.tags_final[i] = new_tags"
   ]
  },
  {
   "cell_type": "code",
   "execution_count": 8,
   "metadata": {},
   "outputs": [],
   "source": [
    "#Removing movies that don't belong to any tag\n",
    "df = df[df.tags_final.apply(lambda x: len(x)) != 0]"
   ]
  },
  {
   "cell_type": "code",
   "execution_count": 9,
   "metadata": {},
   "outputs": [],
   "source": [
    "tags_list = []\n",
    "for i in df.tags_final:\n",
    "    tags_list.extend(i)"
   ]
  },
  {
   "cell_type": "code",
   "execution_count": 10,
   "metadata": {},
   "outputs": [
    {
     "data": {
      "image/png": "[encoded data removed]",
      "text/plain": [
       "<Figure size 432x288 with 1 Axes>"
      ]
     },
     "metadata": {
      "needs_background": "light"
     },
     "output_type": "display_data"
    }
   ],
   "source": [
    "tags_counts = Counter(tags_list)\n",
    "df_summary = pd.DataFrame.from_dict(tags_counts, orient='index', columns=[\"Count\"])\n",
    "df_summary.sort_values(by=\"Count\", ascending=False, inplace=True)\n",
    "plot = df_summary.plot(kind='bar')\n",
    "plot.set_xlabel(\"Tags\")\n",
    "plot.set_ylabel(\"Count\")\n",
    "plt.show()"
   ]
  },
  {
   "cell_type": "code",
   "execution_count": 11,
   "metadata": {},
   "outputs": [],
   "source": [
    "bit_mapping = {\n",
    "    \"action\": 0,\n",
    "    \"comedy\": 1,\n",
    "    \"cult\":2,\n",
    "    \"fantasy\":3,\n",
    "    \"thriller\":4,\n",
    "    \"horror\":5,\n",
    "    \"romantic\":6,\n",
    "    \"sci-fi\":7,\n",
    "    \"drama\":8,\n",
    "    \"dark\":9    \n",
    "}"
   ]
  },
  {
   "cell_type": "code",
   "execution_count": 12,
   "metadata": {},
   "outputs": [],
   "source": [
    "y_targets = np.zeros((len(df), len(bit_mapping)))"
   ]
  },
  {
   "cell_type": "code",
   "execution_count": 13,
   "metadata": {},
   "outputs": [],
   "source": [
    "for movie, tags in enumerate(df.tags_final):\n",
    "    no_of_tags = len(tags)\n",
    "    weight_tags = 1/no_of_tags\n",
    "    for tag in tags:\n",
    "        index = bit_mapping[tag]\n",
    "        y_targets[movie][index] = y_targets[movie][index] + weight_tags"
   ]
  },
  {
   "cell_type": "code",
   "execution_count": null,
   "metadata": {},
   "outputs": [],
   "source": []
  }
 ],
 "metadata": {
  "kernelspec": {
   "display_name": "Python 3",
   "language": "python",
   "name": "python3"
  },
  "language_info": {
   "codemirror_mode": {
    "name": "ipython",
    "version": 3
   },
   "file_extension": ".py",
   "mimetype": "text/x-python",
   "name": "python",
   "nbconvert_exporter": "python",
   "pygments_lexer": "ipython3",
   "version": "3.7.4"
  }
 },
 "nbformat": 4,
 "nbformat_minor": 2
}
