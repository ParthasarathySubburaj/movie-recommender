{
 "cells": [
  {
   "cell_type": "code",
   "execution_count": 1,
   "metadata": {},
   "outputs": [
    {
     "name": "stderr",
     "output_type": "stream",
     "text": [
      "Using TensorFlow backend.\n"
     ]
    }
   ],
   "source": [
    "import numpy as np\n",
    "import pandas as pd\n",
    "import tensorflow as tf\n",
    "import tensorflow_hub as hub\n",
    "from tensorflow.keras.layers import Input, Lambda, Dense\n",
    "from tensorflow.keras import layers\n",
    "from tensorflow.keras.models import Model\n",
    "import keras.backend as K"
   ]
  },
  {
   "cell_type": "code",
   "execution_count": 2,
   "metadata": {},
   "outputs": [],
   "source": [
    "df = pd.read_csv(\"../data/mpst_full_data.csv\")"
   ]
  },
  {
   "cell_type": "code",
   "execution_count": 3,
   "metadata": {},
   "outputs": [],
   "source": [
    "# https://tfhub.dev/google/universal-sentence-encoder/4 \n",
    "embed = hub.KerasLayer(\"../models/use/\")"
   ]
  },
  {
   "cell_type": "code",
   "execution_count": 4,
   "metadata": {},
   "outputs": [],
   "source": [
    "def UniversalEmbeddingfn(x):\n",
    "    return embed(tf.squeeze(tf.cast(x, tf.string)))"
   ]
  },
  {
   "cell_type": "code",
   "execution_count": 6,
   "metadata": {},
   "outputs": [
    {
     "data": {
      "text/plain": [
       "(3, 1)"
      ]
     },
     "execution_count": 6,
     "metadata": {},
     "output_type": "execute_result"
    }
   ],
   "source": [
    "inputs = np.array([[\"comedy\"], [\"funny\"],[\"http://example.com\"]])\n",
    "inputs.shape"
   ]
  },
  {
   "cell_type": "code",
   "execution_count": 7,
   "metadata": {},
   "outputs": [
    {
     "data": {
      "text/plain": [
       "<tf.Tensor: shape=(3, 512), dtype=float32, numpy=\n",
       "array([[-0.05970578,  0.03881067,  0.05916519, ..., -0.05454944,\n",
       "         0.0762557 ,  0.0176069 ],\n",
       "       [-0.0169152 ,  0.04611888,  0.03401598, ..., -0.06357985,\n",
       "         0.01241454,  0.01053265],\n",
       "       [-0.00988075, -0.00547772,  0.05957529, ..., -0.02145737,\n",
       "         0.03282751, -0.04534928]], dtype=float32)>"
      ]
     },
     "execution_count": 7,
     "metadata": {},
     "output_type": "execute_result"
    }
   ],
   "source": [
    "UniversalEmbeddingfn(inputs)"
   ]
  },
  {
   "cell_type": "code",
   "execution_count": 8,
   "metadata": {},
   "outputs": [],
   "source": [
    "class UniversalEmbedding(layers.Layer):\n",
    "    def __init__(self, embed):\n",
    "        super(UniversalEmbedding, self).__init__()\n",
    "        self.embed = embed\n",
    "\n",
    "    def call(self, x):\n",
    "        return self.embed(tf.squeeze(tf.cast(x, tf.string), axis=1))\n",
    "#         return self.embed(tf.reshape(tf.cast(x, tf.string), shape=tf.shape(x)))"
   ]
  },
  {
   "cell_type": "code",
   "execution_count": 9,
   "metadata": {},
   "outputs": [
    {
     "data": {
      "text/plain": [
       "<tf.Tensor: shape=(3,), dtype=string, numpy=array([b'comedy', b'funny', b'http://example.com'], dtype=object)>"
      ]
     },
     "execution_count": 9,
     "metadata": {},
     "output_type": "execute_result"
    }
   ],
   "source": [
    "# x = np.array([inputs[0]])\n",
    "x = inputs\n",
    "tf.squeeze(tf.cast(x, tf.string), axis=1)"
   ]
  },
  {
   "cell_type": "code",
   "execution_count": null,
   "metadata": {},
   "outputs": [],
   "source": []
  },
  {
   "cell_type": "code",
   "execution_count": 11,
   "metadata": {},
   "outputs": [],
   "source": [
    "linear_layer = UniversalEmbedding(embed)\n",
    "# y = linear_layer(inputs)\n",
    "y = linear_layer(np.array([inputs[0]]))"
   ]
  },
  {
   "cell_type": "code",
   "execution_count": 12,
   "metadata": {},
   "outputs": [],
   "source": [
    "input_text = Input(shape=(1,), dtype=tf.string)\n",
    "embedding = UniversalEmbedding(embed)(input_text)\n",
    "# embedding = Lambda(UniversalEmbedding_fn, output_shape=(512, ))(input_text)\n",
    "dense = Dense(256, activation='relu')(embedding)\n",
    "pred = Dense(10, activation='softmax')(dense)\n",
    "model = Model(inputs=[input_text], outputs=pred)\n",
    "model.compile(loss='categorical_crossentropy', optimizer='adam', metrics=['accuracy'])"
   ]
  },
  {
   "cell_type": "code",
   "execution_count": 13,
   "metadata": {},
   "outputs": [
    {
     "name": "stdout",
     "output_type": "stream",
     "text": [
      "Model: \"model\"\n",
      "_________________________________________________________________\n",
      "Layer (type)                 Output Shape              Param #   \n",
      "=================================================================\n",
      "input_1 (InputLayer)         [(None, 1)]               0         \n",
      "_________________________________________________________________\n",
      "universal_embedding_2 (Unive (None, 512)               256797824 \n",
      "_________________________________________________________________\n",
      "dense (Dense)                (None, 256)               131328    \n",
      "_________________________________________________________________\n",
      "dense_1 (Dense)              (None, 10)                2570      \n",
      "=================================================================\n",
      "Total params: 256,931,722\n",
      "Trainable params: 133,898\n",
      "Non-trainable params: 256,797,824\n",
      "_________________________________________________________________\n"
     ]
    }
   ],
   "source": [
    "model.summary()"
   ]
  },
  {
   "cell_type": "code",
   "execution_count": null,
   "metadata": {},
   "outputs": [],
   "source": []
  },
  {
   "cell_type": "code",
   "execution_count": 14,
   "metadata": {},
   "outputs": [],
   "source": [
    "tags = []\n",
    "for i,j in enumerate(df.tags):\n",
    "    temp = j.split(\", \")\n",
    "    tags.extend(temp)"
   ]
  },
  {
   "cell_type": "code",
   "execution_count": 15,
   "metadata": {},
   "outputs": [],
   "source": [
    "mapping = {\n",
    "    \"action\": [\"action\", \"good versus evil\", \"revenge\", \"suicidal\" ],\n",
    "    \"comedy\": [\"comedy\", \"comic\", \"humor\", \"prank\",\"satire\"  ],\n",
    "    \"cult\":[\"cult\", \"melodrama\" ],\n",
    "    \"fantasy\":[\"avant garde\", \"fantasy\", \"home movie\", \"magical realism\", \"whimsical\"],\n",
    "    \"thriller\":[\"clever\", \"insanity\",\"intrigue\", \"murder\", \"mystery\", \"neo noir\", \"psychological\", \"suspenseful\"],\n",
    "    \"horror\":[\"gothic\", \"grindhouse film\", \"haunting\", \"horror\", \"paranormal\", ],\n",
    "    \"romantic\":[\"cute\", \"queer\",\"romantic\"  ],\n",
    "    \"sci-fi\":[\"alternate reality\", \"atmospheric\", \"sci-fi\" ],\n",
    "    \"drama\":[\"absurd\", \"boring\", \"adult comedy\", \"autobiographical\", \"dramatic\", \n",
    "             \"entertaining\", \"feel-good\", \"flashback\", \"historical\",\"historical fiction\", \n",
    "             \"inspiring\", \"non fiction\", \"philosophical\", \"plot twist\",\"realism\", \"sentimental\", \n",
    "             \"storytelling\", \"stupid\", \"thought-provoking\", \"tragedy\", \"western\", \"christian film\"],\n",
    "    \"dark\":[\"bleak\", \"claustrophobic\", \"blaxploitation\", \"cruelty\", \"dark\", \"depressing\", \"sadist\", \"violence\", \"psychedelic\"]\n",
    "    \n",
    "}"
   ]
  },
  {
   "cell_type": "code",
   "execution_count": 16,
   "metadata": {},
   "outputs": [],
   "source": [
    "def tag_finder(mapping, tag):\n",
    "    for key, values in mapping.items():\n",
    "        if tag in values:\n",
    "            return key            "
   ]
  },
  {
   "cell_type": "code",
   "execution_count": 17,
   "metadata": {},
   "outputs": [],
   "source": [
    "df[\"tags_final\"] = None\n",
    "for i,j in enumerate(df.tags):\n",
    "    temp = j.split(\", \")\n",
    "    new_tags = []\n",
    "    for a in temp:\n",
    "        tag = tag_finder(mapping, a)\n",
    "        if tag is not None:\n",
    "            new_tags.append(tag)\n",
    "    df.tags_final[i] = new_tags"
   ]
  },
  {
   "cell_type": "code",
   "execution_count": 18,
   "metadata": {},
   "outputs": [],
   "source": [
    "#Removing movies that don't belong to any tag\n",
    "df = df[df.tags_final.apply(lambda x: len(x)) != 0]"
   ]
  },
  {
   "cell_type": "code",
   "execution_count": 19,
   "metadata": {},
   "outputs": [],
   "source": [
    "bit_mapping = {\n",
    "    \"action\": 0,\n",
    "    \"comedy\": 1,\n",
    "    \"cult\":2,\n",
    "    \"fantasy\":3,\n",
    "    \"thriller\":4,\n",
    "    \"horror\":5,\n",
    "    \"romantic\":6,\n",
    "    \"sci-fi\":7,\n",
    "    \"drama\":8,\n",
    "    \"dark\":9    \n",
    "}"
   ]
  },
  {
   "cell_type": "code",
   "execution_count": 20,
   "metadata": {},
   "outputs": [],
   "source": [
    "y_targets = np.zeros((len(df), len(bit_mapping)))"
   ]
  },
  {
   "cell_type": "code",
   "execution_count": 21,
   "metadata": {},
   "outputs": [],
   "source": [
    "for movie, tags in enumerate(df.tags_final):\n",
    "    no_of_tags = len(tags)\n",
    "    weight_tags = 1/no_of_tags\n",
    "    for tag in tags:\n",
    "        index = bit_mapping[tag]\n",
    "        y_targets[movie][index] = y_targets[movie][index] + weight_tags"
   ]
  },
  {
   "cell_type": "code",
   "execution_count": 22,
   "metadata": {},
   "outputs": [],
   "source": [
    "texts = []\n",
    "for i in df.plot_synopsis:\n",
    "    if len(i)>1000:\n",
    "        texts.append(i[0:1000])\n",
    "    else:\n",
    "        texts.append(i)"
   ]
  },
  {
   "cell_type": "code",
   "execution_count": 23,
   "metadata": {},
   "outputs": [],
   "source": [
    "x = np.array(texts)"
   ]
  },
  {
   "cell_type": "code",
   "execution_count": 24,
   "metadata": {},
   "outputs": [
    {
     "name": "stdout",
     "output_type": "stream",
     "text": [
      "Train on 14719 samples\n",
      "Epoch 1/12\n",
      "14719/14719 [==============================] - 17s 1ms/sample - loss: 1.9346 - accuracy: 0.2941\n",
      "Epoch 2/12\n",
      "14719/14719 [==============================] - 15s 1ms/sample - loss: 1.8510 - accuracy: 0.3301\n",
      "Epoch 3/12\n",
      "14719/14719 [==============================] - 15s 1ms/sample - loss: 1.8268 - accuracy: 0.3419\n",
      "Epoch 4/12\n",
      "14719/14719 [==============================] - 15s 1ms/sample - loss: 1.8066 - accuracy: 0.3510s\n",
      "Epoch 5/12\n",
      "14719/14719 [==============================] - 15s 1ms/sample - loss: 1.7869 - accuracy: 0.3587\n",
      "Epoch 6/12\n",
      "14719/14719 [==============================] - 15s 1ms/sample - loss: 1.7681 - accuracy: 0.3714\n",
      "Epoch 7/12\n",
      "14719/14719 [==============================] - 15s 1ms/sample - loss: 1.7468 - accuracy: 0.3772\n",
      "Epoch 8/12\n",
      "14719/14719 [==============================] - 15s 1ms/sample - loss: 1.7270 - accuracy: 0.3860\n",
      "Epoch 9/12\n",
      "14719/14719 [==============================] - 15s 1ms/sample - loss: 1.7035 - accuracy: 0.4000\n",
      "Epoch 10/12\n",
      "14719/14719 [==============================] - 15s 1ms/sample - loss: 1.6807 - accuracy: 0.4122\n",
      "Epoch 11/12\n",
      "14719/14719 [==============================] - 16s 1ms/sample - loss: 1.6585 - accuracy: 0.4222\n",
      "Epoch 12/12\n",
      "14719/14719 [==============================] - 15s 1ms/sample - loss: 1.6369 - accuracy: 0.4313\n"
     ]
    },
    {
     "data": {
      "text/plain": [
       "<tensorflow.python.keras.callbacks.History at 0x7facf4091f50>"
      ]
     },
     "execution_count": 24,
     "metadata": {},
     "output_type": "execute_result"
    }
   ],
   "source": [
    "model.fit(x, y_targets, batch_size=32, epochs=12)"
   ]
  },
  {
   "cell_type": "code",
   "execution_count": 25,
   "metadata": {},
   "outputs": [
    {
     "data": {
      "text/plain": [
       "array([[0.06352345, 0.0251822 , 0.0918977 , ..., 0.01170416, 0.11871923,\n",
       "        0.1569769 ],\n",
       "       [0.256484  , 0.01851137, 0.06536669, ..., 0.00804719, 0.04597718,\n",
       "        0.32175803],\n",
       "       [0.05428148, 0.10323779, 0.02313492, ..., 0.04784635, 0.1588573 ,\n",
       "        0.04198252],\n",
       "       ...,\n",
       "       [0.10741819, 0.0275405 , 0.09650864, ..., 0.02954132, 0.12667611,\n",
       "        0.19399863],\n",
       "       [0.0780264 , 0.02716865, 0.03704562, ..., 0.00568172, 0.09172072,\n",
       "        0.0977466 ],\n",
       "       [0.21965103, 0.06991829, 0.05230707, ..., 0.0032561 , 0.25996262,\n",
       "        0.08700375]], dtype=float32)"
      ]
     },
     "execution_count": 25,
     "metadata": {},
     "output_type": "execute_result"
    }
   ],
   "source": [
    "y_pred = model.predict(x)\n",
    "y_pred "
   ]
  },
  {
   "cell_type": "code",
   "execution_count": 27,
   "metadata": {},
   "outputs": [
    {
     "data": {
      "text/plain": [
       "array([[0.1713618 , 0.03452521, 0.08965068, 0.05014998, 0.13980821,\n",
       "        0.01821835, 0.02472308, 0.02285463, 0.1425099 , 0.30619818]],\n",
       "      dtype=float32)"
      ]
     },
     "execution_count": 27,
     "metadata": {},
     "output_type": "execute_result"
    }
   ],
   "source": [
    "model.predict(np.array([x[25]]))"
   ]
  },
  {
   "cell_type": "code",
   "execution_count": null,
   "metadata": {},
   "outputs": [],
   "source": []
  }
 ],
 "metadata": {
  "kernelspec": {
   "display_name": "Python 3",
   "language": "python",
   "name": "python3"
  },
  "language_info": {
   "codemirror_mode": {
    "name": "ipython",
    "version": 3
   },
   "file_extension": ".py",
   "mimetype": "text/x-python",
   "name": "python",
   "nbconvert_exporter": "python",
   "pygments_lexer": "ipython3",
   "version": "3.7.4"
  }
 },
 "nbformat": 4,
 "nbformat_minor": 2
}
